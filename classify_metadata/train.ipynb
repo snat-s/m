{
 "cells": [
  {
   "cell_type": "code",
   "execution_count": 3,
   "id": "590e3f4e-0fc9-4a49-b063-3e67d72440f5",
   "metadata": {},
   "outputs": [],
   "source": [
    "import pandas as pd\n",
    "import numpy as np\n",
    "from sklearn.model_selection import train_test_split\n",
    "from transformers import (\n",
    "    AutoTokenizer,\n",
    "    DataCollatorWithPadding,\n",
    "    TrainingArguments,\n",
    "    Trainer,\n",
    "    AutoModelForSequenceClassification,\n",
    ")\n",
    "from datasets import Dataset, load_dataset\n",
    "import evaluate\n",
    "import os\n",
    "from sklearn.metrics import classification_report, confusion_matrix\n",
    "import wandb\n",
    "import torch"
   ]
  },
  {
   "cell_type": "code",
   "execution_count": 5,
   "id": "51bd0b9f-2d45-4c27-9dbd-2c297ad6d97f",
   "metadata": {},
   "outputs": [
    {
     "name": "stderr",
     "output_type": "stream",
     "text": [
      "/mnt/data/progra/m/classify_metadata/venv/lib/python3.12/site-packages/torch/cuda/__init__.py:118: UserWarning: CUDA initialization: CUDA unknown error - this may be due to an incorrectly set up environment, e.g. changing env variable CUDA_VISIBLE_DEVICES after program start. Setting the available devices to be zero. (Triggered internally at ../c10/cuda/CUDAFunctions.cpp:108.)\n",
      "  return torch._C._cuda_getDeviceCount() > 0\n"
     ]
    },
    {
     "data": {
      "text/plain": [
       "False"
      ]
     },
     "execution_count": 5,
     "metadata": {},
     "output_type": "execute_result"
    }
   ],
   "source": [
    "# torch.cuda_set_device(1)\n",
    "torch.cuda.is_available()"
   ]
  },
  {
   "cell_type": "code",
   "execution_count": null,
   "id": "5e689232-87db-46f1-b49b-88ab4764a8a2",
   "metadata": {},
   "outputs": [],
   "source": [
    "# Configuration\n",
    "BASE_MODEL_NAME = \"Alibaba-NLP/gte-large-en-v1.5\"\n",
    "DATASET_PATH = \"./classified_pdfs_50k.csv\"\n",
    "CHECKPOINT_DIR = \"./checkpoints\"\n",
    "THRESHOLD = 100  # Minimum number of samples per class\n",
    "\n",
    "# Load and preprocess the data\n",
    "df = pd.read_csv(DATASET_PATH)\n",
    "value_counts = df['classification'].value_counts()\n",
    "classes_to_keep = value_counts[value_counts >= THRESHOLD].index.tolist()\n",
    "df = df[df['classification'].isin(classes_to_keep)]\n",
    "\n",
    "# Create label mappings\n",
    "class_to_label = {cls: i for i, cls in enumerate(classes_to_keep)}\n",
    "label_to_class = {i: cls for cls, i in class_to_label.items()}"
   ]
  },
  {
   "cell_type": "code",
   "execution_count": null,
   "id": "36cf1a82-1817-4b2d-b7f5-fe279567907c",
   "metadata": {},
   "outputs": [],
   "source": [
    "# Prepare the dataset\n",
    "texts = df['url'].tolist()\n",
    "labels = df['classification'].map(class_to_label).tolist()\n",
    "\n",
    "# Split the dataset\n",
    "train_texts, val_texts, train_labels, val_labels = train_test_split(\n",
    "    texts, labels, test_size=0.1, stratify=labels, random_state=42\n",
    ")\n",
    "\n",
    "# Create datasets\n",
    "train_dataset = Dataset.from_dict({\"text\": train_texts, \"label\": train_labels})\n",
    "val_dataset = Dataset.from_dict({\"text\": val_texts, \"label\": val_labels})\n",
    "\n",
    "# Initialize tokenizer\n",
    "tokenizer = AutoTokenizer.from_pretrained(BASE_MODEL_NAME)\n",
    "\n",
    "# Tokenization function\n",
    "def tokenize_function(examples):\n",
    "    return tokenizer(examples[\"text\"], padding=\"max_length\", truncation=True, max_length=512)\n",
    "\n",
    "# Tokenize datasets\n",
    "train_dataset = train_dataset.map(tokenize_function, batched=True)\n",
    "val_dataset = val_dataset.map(tokenize_function, batched=True)\n",
    "\n",
    "# Prepare data collator\n",
    "data_collator = DataCollatorWithPadding(tokenizer=tokenizer)"
   ]
  },
  {
   "cell_type": "code",
   "execution_count": null,
   "id": "644135a8-383a-445f-add9-495a44a24395",
   "metadata": {},
   "outputs": [],
   "source": [
    "model = AutoModelForSequenceClassification.from_pretrained(\n",
    "    BASE_MODEL_NAME, \n",
    "    num_labels=len(class_to_label)\n",
    ")"
   ]
  },
  {
   "cell_type": "code",
   "execution_count": null,
   "id": "45cd3691-ac18-4991-804a-8a1a92d377f8",
   "metadata": {},
   "outputs": [],
   "source": [
    "def compute_metrics(eval_pred):\n",
    "    precision_metric = evaluate.load(\"precision\")\n",
    "    accuracy_metric = evaluate.load(\"accuracy\")\n",
    "    f1_metric = evaluate.load(\"f1\")\n",
    "    logits, labels = eval_pred\n",
    "    preds = np.argmax(logits, axis=1)\n",
    "    precision = precision_metric.compute(\n",
    "        predictions=preds, references=labels, average=\"macro\"\n",
    "    )[\"precision\"]\n",
    "    accuracy = accuracy_metric.compute(predictions=preds, references=labels)[\"accuracy\"]\n",
    "    f1 = f1_metric.compute(predictions=preds, references=labels, average=\"macro\")[\"f1\"]\n",
    "    \n",
    "    report = classification_report(labels, preds)\n",
    "    cm = confusion_matrix(labels, preds)\n",
    "    #print(\"Validation Report:\\n\" + report)\n",
    "    #print(\"Confusion Matrix:\\n\" + str(cm))\n",
    "    wandb.log({\n",
    "        \"accuracy\": accuracy,\n",
    "         \"f1_macro\": f1,\n",
    "    })\n",
    "    return {\n",
    "        \"f1_macro\": f1,\n",
    "        \"accuracy\": accuracy,\n",
    "    }"
   ]
  },
  {
   "cell_type": "code",
   "execution_count": null,
   "id": "b7912cd0-c429-403f-9762-9cd40256ff9c",
   "metadata": {},
   "outputs": [],
   "source": [
    "for p in model.base_model.parameters():\n",
    "    p.requires_grad = False"
   ]
  },
  {
   "cell_type": "code",
   "execution_count": null,
   "id": "24b39d47-d9cd-4df9-a3ed-af83f08cffc7",
   "metadata": {},
   "outputs": [],
   "source": [
    "for name, param in model.named_parameters():\n",
    "    if param.requires_grad:\n",
    "        print(f\"Trainable layer: {name}\")"
   ]
  },
  {
   "cell_type": "code",
   "execution_count": null,
   "id": "64cac1ac-f1af-49f8-baa5-8168788bbcec",
   "metadata": {},
   "outputs": [],
   "source": [
    "training_args = TrainingArguments(\n",
    "    output_dir=CHECKPOINT_DIR,\n",
    "    eval_strategy=\"steps\",\n",
    "    save_strategy=\"steps\",\n",
    "    eval_steps=100,\n",
    "    save_steps=100,\n",
    "    logging_steps=100,\n",
    "    learning_rate=3e-4,\n",
    "    num_train_epochs=5,\n",
    "    seed=42,\n",
    "    per_device_train_batch_size=128,\n",
    "    per_device_eval_batch_size=256,\n",
    "    load_best_model_at_end=True,\n",
    "    metric_for_best_model=\"accuracy\",\n",
    "    greater_is_better=True,\n",
    "    report_to=\"wandb\",\n",
    ")\n",
    "\n",
    "# Initialize Trainer\n",
    "trainer = Trainer(\n",
    "    model=model,\n",
    "    args=training_args,\n",
    "    train_dataset=train_dataset,\n",
    "    eval_dataset=val_dataset,\n",
    "    tokenizer=tokenizer,\n",
    "    data_collator=data_collator,\n",
    "    compute_metrics=compute_metrics,\n",
    ")"
   ]
  },
  {
   "cell_type": "code",
   "execution_count": null,
   "id": "99d13ef9-209c-49a8-a3b0-bc32603172a5",
   "metadata": {},
   "outputs": [],
   "source": [
    "wandb.init(project=\"pdf-classification\")"
   ]
  },
  {
   "cell_type": "code",
   "execution_count": null,
   "id": "87e71b83-713e-41c4-a139-ad2ff7762878",
   "metadata": {},
   "outputs": [],
   "source": [
    "# Train the model\n",
    "trainer.train()\n",
    "\n",
    "# Save the model\n",
    "trainer.save_model(os.path.join(CHECKPOINT_DIR, \"final\"))"
   ]
  },
  {
   "cell_type": "code",
   "execution_count": null,
   "id": "f21a9274-b5e9-4a7d-bc10-2d1836174931",
   "metadata": {},
   "outputs": [],
   "source": [
    "wandb.finish()"
   ]
  },
  {
   "cell_type": "code",
   "execution_count": null,
   "id": "93719c3e-e6c2-4c03-af67-0bf0c7f0b9ce",
   "metadata": {},
   "outputs": [],
   "source": [
    "# Save the label mappings\n",
    "import json\n",
    "with open(os.path.join(CHECKPOINT_DIR, 'label_mappings.json'), 'w') as f:\n",
    "    json.dump({\n",
    "        'class_to_label': class_to_label,\n",
    "        'label_to_class': label_to_class\n",
    "    }, f)\n",
    "\n",
    "print(\"Training completed. Model and label mappings saved.\")"
   ]
  }
 ],
 "metadata": {
  "kernelspec": {
   "display_name": "Python 3 (ipykernel)",
   "language": "python",
   "name": "python3"
  },
  "language_info": {
   "codemirror_mode": {
    "name": "ipython",
    "version": 3
   },
   "file_extension": ".py",
   "mimetype": "text/x-python",
   "name": "python",
   "nbconvert_exporter": "python",
   "pygments_lexer": "ipython3",
   "version": "3.12.4"
  }
 },
 "nbformat": 4,
 "nbformat_minor": 5
}
